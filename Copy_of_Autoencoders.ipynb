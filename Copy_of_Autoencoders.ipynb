{
  "nbformat": 4,
  "nbformat_minor": 0,
  "metadata": {
    "colab": {
      "name": "Copy of Autoencoders",
      "version": "0.3.2",
      "provenance": [],
      "collapsed_sections": [],
      "include_colab_link": true
    },
    "kernelspec": {
      "name": "python3",
      "display_name": "Python 3"
    },
    "accelerator": "TPU"
  },
  "cells": [
    {
      "cell_type": "markdown",
      "metadata": {
        "id": "view-in-github",
        "colab_type": "text"
      },
      "source": [
        "<a href=\"https://colab.research.google.com/github/DataMonsterBoy/dtw/blob/master/Copy_of_Autoencoders.ipynb\" target=\"_parent\"><img src=\"https://colab.research.google.com/assets/colab-badge.svg\" alt=\"Open In Colab\"/></a>"
      ]
    },
    {
      "metadata": {
        "id": "rI0tCFK2xeoU",
        "colab_type": "code",
        "outputId": "cc3034a4-09db-4761-9b86-f8732fba689b",
        "colab": {
          "base_uri": "https://localhost:8080/",
          "height": 238
        }
      },
      "cell_type": "code",
      "source": [
        "# This tutorial was taken from https://blog.keras.io/building-autoencoders-in-keras.html\n",
        "import os\n",
        "import pprint\n",
        "import tensorflow as tf\n",
        "if \"COLAB_TPU_ADDR\" not in os.environ:\n",
        " print(\"ERROR: Not connected to a TPU runtime; please see the first cell in this notebook for instructions!\")\n",
        "else:\n",
        " tpu_address = \"grpc://\" + os.environ[\"COLAB_TPU_ADDR\"]\n",
        " print (\"TPU address is\", tpu_address)\n",
        "with tf.Session(tpu_address) as session:\n",
        " devices = session.list_devices()\n",
        " \n",
        " print(\"TPU devices:\")\n",
        " pprint.pprint(devices)"
      ],
      "execution_count": 0,
      "outputs": [
        {
          "output_type": "stream",
          "text": [
            "TPU address is grpc://10.120.119.66:8470\n",
            "TPU devices:\n",
            "[_DeviceAttributes(/job:tpu_worker/replica:0/task:0/device:CPU:0, CPU, -1, 997373557158828602),\n",
            " _DeviceAttributes(/job:tpu_worker/replica:0/task:0/device:XLA_CPU:0, XLA_CPU, 17179869184, 8875429238357423198),\n",
            " _DeviceAttributes(/job:tpu_worker/replica:0/task:0/device:TPU:0, TPU, 17179869184, 5764581782689679828),\n",
            " _DeviceAttributes(/job:tpu_worker/replica:0/task:0/device:TPU:1, TPU, 17179869184, 3526425674130694302),\n",
            " _DeviceAttributes(/job:tpu_worker/replica:0/task:0/device:TPU:2, TPU, 17179869184, 10385598250267310612),\n",
            " _DeviceAttributes(/job:tpu_worker/replica:0/task:0/device:TPU:3, TPU, 17179869184, 10623468659183554437),\n",
            " _DeviceAttributes(/job:tpu_worker/replica:0/task:0/device:TPU:4, TPU, 17179869184, 10339065335251603162),\n",
            " _DeviceAttributes(/job:tpu_worker/replica:0/task:0/device:TPU:5, TPU, 17179869184, 14426321889355046676),\n",
            " _DeviceAttributes(/job:tpu_worker/replica:0/task:0/device:TPU:6, TPU, 17179869184, 6912304788773976631),\n",
            " _DeviceAttributes(/job:tpu_worker/replica:0/task:0/device:TPU:7, TPU, 17179869184, 15234987434574802184),\n",
            " _DeviceAttributes(/job:tpu_worker/replica:0/task:0/device:TPU_SYSTEM:0, TPU_SYSTEM, 17179869184, 6256754587511949882)]\n"
          ],
          "name": "stdout"
        }
      ]
    },
    {
      "metadata": {
        "id": "-7w4IaWvyBbG",
        "colab_type": "code",
        "outputId": "6c78267c-d8c3-4469-e527-d71266acab8b",
        "colab": {
          "base_uri": "https://localhost:8080/",
          "height": 105
        }
      },
      "cell_type": "code",
      "source": [
        "from keras.layers import Input, Dense\n",
        "from keras.models import Model\n",
        "\n",
        "# this is the size of our encoded representations\n",
        "encoding_dim = 32  # 32 floats -> compression of factor 24.5, assuming the input is 784 floats\n",
        "\n",
        "# this is our input placeholder\n",
        "input_img = Input(shape=(784,))\n",
        "# \"encoded\" is the encoded representation of the input\n",
        "encoded = Dense(encoding_dim, activation='relu')(input_img)\n",
        "# \"decoded\" is the lossy reconstruction of the input\n",
        "decoded = Dense(784, activation='sigmoid')(encoded)\n",
        "\n",
        "# this model maps an input to its reconstruction\n",
        "autoencoder = Model(input_img, decoded)"
      ],
      "execution_count": 0,
      "outputs": [
        {
          "output_type": "stream",
          "text": [
            "WARNING:tensorflow:From /usr/local/lib/python3.6/dist-packages/tensorflow/python/framework/op_def_library.py:263: colocate_with (from tensorflow.python.framework.ops) is deprecated and will be removed in a future version.\n",
            "Instructions for updating:\n",
            "Colocations handled automatically by placer.\n"
          ],
          "name": "stdout"
        },
        {
          "output_type": "stream",
          "text": [
            "Using TensorFlow backend.\n"
          ],
          "name": "stderr"
        }
      ]
    },
    {
      "metadata": {
        "id": "w6XAE8yCyExw",
        "colab_type": "code",
        "colab": {}
      },
      "cell_type": "code",
      "source": [
        "encoder = Model(input_img, encoded)"
      ],
      "execution_count": 0,
      "outputs": []
    },
    {
      "metadata": {
        "id": "iH8VGNqKyY-w",
        "colab_type": "code",
        "colab": {}
      },
      "cell_type": "code",
      "source": [
        "# create a placeholder for an encoded (32-dimensional) input\n",
        "encoded_input = Input(shape=(encoding_dim,))\n",
        "# retrieve the last layer of the autoencoder model\n",
        "decoder_layer = autoencoder.layers[-1]\n",
        "# create the decoder model\n",
        "decoder = Model(encoded_input, decoder_layer(encoded_input))"
      ],
      "execution_count": 0,
      "outputs": []
    },
    {
      "metadata": {
        "id": "s2n7PRmozS2f",
        "colab_type": "code",
        "colab": {}
      },
      "cell_type": "code",
      "source": [
        "autoencoder.compile(optimizer='adadelta', loss='binary_crossentropy')"
      ],
      "execution_count": 0,
      "outputs": []
    },
    {
      "metadata": {
        "id": "KCrLyA5EyaC_",
        "colab_type": "code",
        "outputId": "cb19e8e0-1d11-47f7-baa5-4f6d7b1634d4",
        "colab": {
          "base_uri": "https://localhost:8080/",
          "height": 51
        }
      },
      "cell_type": "code",
      "source": [
        "from keras.datasets import mnist\n",
        "import numpy as np\n",
        "\n",
        "# minst.load_data()is a 2d array where the first element is the train and the second is the test. In the train the first elemnt \n",
        "# are the pixels and the second is the target\n",
        "_training = mnist.load_data()[0] # this is the training data\n",
        "_test = mnist.load_data()[1] # this is the test data\n",
        "_training_pixels = mnist.load_data()[0][0] # this is the training pixel data\n",
        "_test_pixels = mnist.load_data()[1][0] # this is the test pixel data\n",
        "_training_target = mnist.load_data()[0][1] # this is the training target data\n",
        "_test_target = mnist.load_data()[1][1] # this is the test target data\n",
        "\n",
        "# read in training and test. discard target as we are constructing an autoencoder\n",
        "(x_train, _), (x_test, _) = mnist.load_data()"
      ],
      "execution_count": 0,
      "outputs": [
        {
          "output_type": "stream",
          "text": [
            "Downloading data from https://s3.amazonaws.com/img-datasets/mnist.npz\n",
            "11493376/11490434 [==============================] - 1s 0us/step\n"
          ],
          "name": "stdout"
        }
      ]
    },
    {
      "metadata": {
        "id": "Ec0C6g4By_d5",
        "colab_type": "code",
        "colab": {}
      },
      "cell_type": "code",
      "source": [
        "x_train = x_train.astype('float32') / 255.\n",
        "x_test = x_test.astype('float32') / 255.\n",
        "x_train = x_train.reshape((len(x_train), np.prod(x_train.shape[1:])))\n",
        "x_test = x_test.reshape((len(x_test), np.prod(x_test.shape[1:])))"
      ],
      "execution_count": 0,
      "outputs": []
    },
    {
      "metadata": {
        "id": "WE-F_jSfytQp",
        "colab_type": "code",
        "outputId": "cdbc8130-81cf-41fd-b6f6-5c4152f459c0",
        "colab": {
          "base_uri": "https://localhost:8080/",
          "height": 1822
        }
      },
      "cell_type": "code",
      "source": [
        "autoencoder.fit(x_train, x_train,\n",
        "                epochs=50,\n",
        "                batch_size=256,\n",
        "                shuffle=True,\n",
        "                validation_data=(x_test, x_test))"
      ],
      "execution_count": 0,
      "outputs": [
        {
          "output_type": "stream",
          "text": [
            "WARNING:tensorflow:From /usr/local/lib/python3.6/dist-packages/tensorflow/python/ops/math_ops.py:3066: to_int32 (from tensorflow.python.ops.math_ops) is deprecated and will be removed in a future version.\n",
            "Instructions for updating:\n",
            "Use tf.cast instead.\n",
            "Train on 60000 samples, validate on 10000 samples\n",
            "Epoch 1/50\n",
            "60000/60000 [==============================] - 5s 87us/step - loss: 0.3603 - val_loss: 0.2712\n",
            "Epoch 2/50\n",
            "60000/60000 [==============================] - 4s 74us/step - loss: 0.2641 - val_loss: 0.2530\n",
            "Epoch 3/50\n",
            "60000/60000 [==============================] - 4s 73us/step - loss: 0.2425 - val_loss: 0.2296\n",
            "Epoch 4/50\n",
            "60000/60000 [==============================] - 4s 74us/step - loss: 0.2221 - val_loss: 0.2121\n",
            "Epoch 5/50\n",
            "60000/60000 [==============================] - 4s 74us/step - loss: 0.2073 - val_loss: 0.1999\n",
            "Epoch 6/50\n",
            "60000/60000 [==============================] - 4s 74us/step - loss: 0.1969 - val_loss: 0.1911\n",
            "Epoch 7/50\n",
            "60000/60000 [==============================] - 4s 72us/step - loss: 0.1890 - val_loss: 0.1841\n",
            "Epoch 8/50\n",
            "60000/60000 [==============================] - 4s 74us/step - loss: 0.1825 - val_loss: 0.1780\n",
            "Epoch 9/50\n",
            "60000/60000 [==============================] - 4s 73us/step - loss: 0.1767 - val_loss: 0.1726\n",
            "Epoch 10/50\n",
            "60000/60000 [==============================] - 4s 73us/step - loss: 0.1714 - val_loss: 0.1676\n",
            "Epoch 11/50\n",
            "60000/60000 [==============================] - 4s 72us/step - loss: 0.1666 - val_loss: 0.1630\n",
            "Epoch 12/50\n",
            "60000/60000 [==============================] - 4s 73us/step - loss: 0.1623 - val_loss: 0.1588\n",
            "Epoch 13/50\n",
            "60000/60000 [==============================] - 4s 73us/step - loss: 0.1583 - val_loss: 0.1550\n",
            "Epoch 14/50\n",
            "60000/60000 [==============================] - 4s 73us/step - loss: 0.1547 - val_loss: 0.1516\n",
            "Epoch 15/50\n",
            "60000/60000 [==============================] - 4s 73us/step - loss: 0.1513 - val_loss: 0.1486\n",
            "Epoch 16/50\n",
            "60000/60000 [==============================] - 4s 73us/step - loss: 0.1483 - val_loss: 0.1455\n",
            "Epoch 17/50\n",
            "60000/60000 [==============================] - 5s 76us/step - loss: 0.1456 - val_loss: 0.1428\n",
            "Epoch 18/50\n",
            "60000/60000 [==============================] - 5s 77us/step - loss: 0.1431 - val_loss: 0.1404\n",
            "Epoch 19/50\n",
            "60000/60000 [==============================] - 4s 73us/step - loss: 0.1407 - val_loss: 0.1382\n",
            "Epoch 20/50\n",
            "60000/60000 [==============================] - 4s 73us/step - loss: 0.1385 - val_loss: 0.1361\n",
            "Epoch 21/50\n",
            "60000/60000 [==============================] - 4s 73us/step - loss: 0.1364 - val_loss: 0.1339\n",
            "Epoch 22/50\n",
            "60000/60000 [==============================] - 4s 73us/step - loss: 0.1344 - val_loss: 0.1319\n",
            "Epoch 23/50\n",
            "60000/60000 [==============================] - 4s 72us/step - loss: 0.1325 - val_loss: 0.1301\n",
            "Epoch 24/50\n",
            "60000/60000 [==============================] - 4s 72us/step - loss: 0.1307 - val_loss: 0.1283\n",
            "Epoch 25/50\n",
            "60000/60000 [==============================] - 4s 72us/step - loss: 0.1289 - val_loss: 0.1265\n",
            "Epoch 26/50\n",
            "60000/60000 [==============================] - 4s 73us/step - loss: 0.1272 - val_loss: 0.1248\n",
            "Epoch 27/50\n",
            "60000/60000 [==============================] - 4s 73us/step - loss: 0.1255 - val_loss: 0.1232\n",
            "Epoch 28/50\n",
            "60000/60000 [==============================] - 4s 73us/step - loss: 0.1240 - val_loss: 0.1217\n",
            "Epoch 29/50\n",
            "60000/60000 [==============================] - 4s 73us/step - loss: 0.1225 - val_loss: 0.1202\n",
            "Epoch 30/50\n",
            "60000/60000 [==============================] - 4s 72us/step - loss: 0.1211 - val_loss: 0.1190\n",
            "Epoch 31/50\n",
            "60000/60000 [==============================] - 4s 72us/step - loss: 0.1198 - val_loss: 0.1176\n",
            "Epoch 32/50\n",
            "60000/60000 [==============================] - 4s 73us/step - loss: 0.1186 - val_loss: 0.1164\n",
            "Epoch 33/50\n",
            "60000/60000 [==============================] - 4s 73us/step - loss: 0.1175 - val_loss: 0.1153\n",
            "Epoch 34/50\n",
            "60000/60000 [==============================] - 4s 74us/step - loss: 0.1164 - val_loss: 0.1143\n",
            "Epoch 35/50\n",
            "60000/60000 [==============================] - 4s 73us/step - loss: 0.1154 - val_loss: 0.1133\n",
            "Epoch 36/50\n",
            "60000/60000 [==============================] - 4s 74us/step - loss: 0.1145 - val_loss: 0.1124\n",
            "Epoch 37/50\n",
            "60000/60000 [==============================] - 4s 74us/step - loss: 0.1137 - val_loss: 0.1116\n",
            "Epoch 38/50\n",
            "60000/60000 [==============================] - 4s 75us/step - loss: 0.1129 - val_loss: 0.1108\n",
            "Epoch 39/50\n",
            "60000/60000 [==============================] - 4s 74us/step - loss: 0.1122 - val_loss: 0.1101\n",
            "Epoch 40/50\n",
            "60000/60000 [==============================] - 4s 74us/step - loss: 0.1115 - val_loss: 0.1095\n",
            "Epoch 41/50\n",
            "60000/60000 [==============================] - 4s 73us/step - loss: 0.1108 - val_loss: 0.1089\n",
            "Epoch 42/50\n",
            "60000/60000 [==============================] - 4s 73us/step - loss: 0.1103 - val_loss: 0.1083\n",
            "Epoch 43/50\n",
            "60000/60000 [==============================] - 4s 73us/step - loss: 0.1097 - val_loss: 0.1078\n",
            "Epoch 44/50\n",
            "60000/60000 [==============================] - 4s 73us/step - loss: 0.1092 - val_loss: 0.1073\n",
            "Epoch 45/50\n",
            "60000/60000 [==============================] - 4s 73us/step - loss: 0.1087 - val_loss: 0.1068\n",
            "Epoch 46/50\n",
            "60000/60000 [==============================] - 4s 73us/step - loss: 0.1083 - val_loss: 0.1064\n",
            "Epoch 47/50\n",
            "60000/60000 [==============================] - 4s 73us/step - loss: 0.1078 - val_loss: 0.1059\n",
            "Epoch 48/50\n",
            "60000/60000 [==============================] - 4s 72us/step - loss: 0.1074 - val_loss: 0.1055\n",
            "Epoch 49/50\n",
            "60000/60000 [==============================] - 4s 73us/step - loss: 0.1070 - val_loss: 0.1052\n",
            "Epoch 50/50\n",
            "60000/60000 [==============================] - 4s 73us/step - loss: 0.1067 - val_loss: 0.1048\n"
          ],
          "name": "stdout"
        },
        {
          "output_type": "execute_result",
          "data": {
            "text/plain": [
              "<keras.callbacks.History at 0x7feb20cbc208>"
            ]
          },
          "metadata": {
            "tags": []
          },
          "execution_count": 11
        }
      ]
    },
    {
      "metadata": {
        "id": "WakqN5Qjy30e",
        "colab_type": "code",
        "colab": {}
      },
      "cell_type": "code",
      "source": [
        "encoded_imgs = encoder.predict(x_test)\n",
        "decoded_imgs = decoder.predict(encoded_imgs)"
      ],
      "execution_count": 0,
      "outputs": []
    },
    {
      "metadata": {
        "id": "QI2C3Boh2Yrt",
        "colab_type": "code",
        "outputId": "742dd2ce-8367-4f4a-d107-447449f22d80",
        "colab": {
          "base_uri": "https://localhost:8080/",
          "height": 244
        }
      },
      "cell_type": "code",
      "source": [
        "# use Matplotlib (don't ask)\n",
        "import matplotlib.pyplot as plt\n",
        "\n",
        "n = 10  # how many digits we will display\n",
        "plt.figure(figsize=(20, 4))\n",
        "for i in range(n):\n",
        "    # display original\n",
        "    ax = plt.subplot(2, n, i + 1)\n",
        "    plt.imshow(x_test[i].reshape(28, 28))\n",
        "    plt.gray()\n",
        "    ax.get_xaxis().set_visible(False)\n",
        "    ax.get_yaxis().set_visible(False)\n",
        "\n",
        "    # display reconstruction\n",
        "    ax = plt.subplot(2, n, i + 1 + n)\n",
        "    plt.imshow(decoded_imgs[i].reshape(28, 28))\n",
        "    plt.gray()\n",
        "    ax.get_xaxis().set_visible(False)\n",
        "    ax.get_yaxis().set_visible(False)\n",
        "plt.show()"
      ],
      "execution_count": 0,
      "outputs": [
        {
          "output_type": "display_data",
          "data": {
            "image/png": "[encoded data removed]",
            "text/plain": [
              "<Figure size 1440x288 with 20 Axes>"
            ]
          },
          "metadata": {
            "tags": []
          }
        }
      ]
    },
    {
      "metadata": {
        "id": "P57NmFEb2pKu",
        "colab_type": "code",
        "colab": {}
      },
      "cell_type": "code",
      "source": [
        "# variational autoencoders\n",
        "from __future__ import absolute_import\n",
        "from __future__ import division\n",
        "from __future__ import print_function\n",
        "\n",
        "from keras.layers import Lambda, Input, Dense\n",
        "from keras.models import Model\n",
        "from keras.datasets import mnist\n",
        "from keras.losses import mse, binary_crossentropy\n",
        "from keras.utils import plot_model\n",
        "from keras import backend as K\n",
        "\n",
        "import numpy as np\n",
        "import matplotlib.pyplot as plt\n",
        "import argparse\n",
        "import os\n",
        "\n",
        "\n",
        "# reparameterization trick\n",
        "# instead of sampling from Q(z|X), sample epsilon = N(0,I)\n",
        "# z = z_mean + sqrt(var) * epsilon\n",
        "def sampling(args):\n",
        "    \"\"\"Reparameterization trick by sampling from an isotropic unit Gaussian.\n",
        "    # Arguments\n",
        "        args (tensor): mean and log of variance of Q(z|X)\n",
        "    # Returns\n",
        "        z (tensor): sampled latent vector\n",
        "    \"\"\"\n",
        "\n",
        "    z_mean, z_log_var = args\n",
        "    batch = K.shape(z_mean)[0]\n",
        "    dim = K.int_shape(z_mean)[1]\n",
        "    # by default, random_normal has mean = 0 and std = 1.0\n",
        "    epsilon = K.random_normal(shape=(batch, dim))\n",
        "    return z_mean + K.exp(0.5 * z_log_var) * epsilon\n",
        "\n",
        "\n",
        "def plot_results(models,\n",
        "                 data,\n",
        "                 batch_size=128,\n",
        "                 model_name=\"vae_mnist\"):\n",
        "    \"\"\"Plots labels and MNIST digits as a function of the 2D latent vector\n",
        "    # Arguments\n",
        "        models (tuple): encoder and decoder models\n",
        "        data (tuple): test data and label\n",
        "        batch_size (int): prediction batch size\n",
        "        model_name (string): which model is using this function\n",
        "    \"\"\"\n",
        "\n",
        "    encoder, decoder = models\n",
        "    x_test, y_test = data\n",
        "    os.makedirs(model_name, exist_ok=True)\n",
        "\n",
        "    filename = os.path.join(model_name, \"vae_mean.png\")\n",
        "    # display a 2D plot of the digit classes in the latent space\n",
        "    z_mean, _, _ = encoder.predict(x_test,\n",
        "                                   batch_size=batch_size)\n",
        "    plt.figure(figsize=(12, 10))\n",
        "    plt.scatter(z_mean[:, 0], z_mean[:, 1], c=y_test)\n",
        "    plt.colorbar()\n",
        "    plt.xlabel(\"z[0]\")\n",
        "    plt.ylabel(\"z[1]\")\n",
        "    plt.savefig(filename)\n",
        "    plt.show()\n",
        "\n",
        "    filename = os.path.join(model_name, \"digits_over_latent.png\")\n",
        "    # display a 30x30 2D manifold of digits\n",
        "    n = 30\n",
        "    digit_size = 28\n",
        "    figure = np.zeros((digit_size * n, digit_size * n))\n",
        "    # linearly spaced coordinates corresponding to the 2D plot\n",
        "    # of digit classes in the latent space\n",
        "    grid_x = np.linspace(-4, 4, n)\n",
        "    grid_y = np.linspace(-4, 4, n)[::-1]\n",
        "\n",
        "    for i, yi in enumerate(grid_y):\n",
        "        for j, xi in enumerate(grid_x):\n",
        "            z_sample = np.array([[xi, yi]])\n",
        "            x_decoded = decoder.predict(z_sample)\n",
        "            digit = x_decoded[0].reshape(digit_size, digit_size)\n",
        "            figure[i * digit_size: (i + 1) * digit_size,\n",
        "                   j * digit_size: (j + 1) * digit_size] = digit\n",
        "\n",
        "    plt.figure(figsize=(10, 10))\n",
        "    start_range = digit_size // 2\n",
        "    end_range = n * digit_size + start_range + 1\n",
        "    pixel_range = np.arange(start_range, end_range, digit_size)\n",
        "    sample_range_x = np.round(grid_x, 1)\n",
        "    sample_range_y = np.round(grid_y, 1)\n",
        "    plt.xticks(pixel_range, sample_range_x)\n",
        "    plt.yticks(pixel_range, sample_range_y)\n",
        "    plt.xlabel(\"z[0]\")\n",
        "    plt.ylabel(\"z[1]\")\n",
        "    plt.imshow(figure, cmap='Greys_r')\n",
        "    plt.savefig(filename)\n",
        "    plt.show()"
      ],
      "execution_count": 0,
      "outputs": []
    },
    {
      "metadata": {
        "id": "lUALDyl69xkU",
        "colab_type": "code",
        "colab": {}
      },
      "cell_type": "code",
      "source": [
        "# MNIST dataset\n",
        "(x_train, y_train), (x_test, y_test) = mnist.load_data()\n",
        "\n",
        "image_size = x_train.shape[1]\n",
        "original_dim = image_size * image_size\n",
        "x_train = np.reshape(x_train, [-1, original_dim])\n",
        "x_test = np.reshape(x_test, [-1, original_dim])\n",
        "x_train = x_train.astype('float32') / 255\n",
        "x_test = x_test.astype('float32') / 255"
      ],
      "execution_count": 0,
      "outputs": []
    },
    {
      "metadata": {
        "id": "XNEr-FrD-8w6",
        "colab_type": "code",
        "colab": {}
      },
      "cell_type": "code",
      "source": [
        "# network parameters\n",
        "input_shape = (original_dim, )\n",
        "intermediate_dim = 512\n",
        "batch_size = 128\n",
        "latent_dim = 2\n",
        "epochs = 50"
      ],
      "execution_count": 0,
      "outputs": []
    },
    {
      "metadata": {
        "id": "PZ5PjTGM-iQ7",
        "colab_type": "code",
        "colab": {}
      },
      "cell_type": "code",
      "source": [
        "# VAE model = encoder + decoder\n",
        "# build encoder model\n",
        "inputs = Input(shape=input_shape, name='encoder_input')\n",
        "x = Dense(intermediate_dim, activation='relu')(inputs)\n",
        "z_mean = Dense(latent_dim, name='z_mean')(x)\n",
        "z_log_var = Dense(latent_dim, name='z_log_var')(x)"
      ],
      "execution_count": 0,
      "outputs": []
    },
    {
      "metadata": {
        "id": "zsTru6-K_mst",
        "colab_type": "code",
        "colab": {}
      },
      "cell_type": "code",
      "source": [
        "# use reparameterization trick to push the sampling out as input\n",
        "# note that \"output_shape\" isn't necessary with the TensorFlow backend\n",
        "z = Lambda(sampling, output_shape=(latent_dim,), name='z')([z_mean, z_log_var])"
      ],
      "execution_count": 0,
      "outputs": []
    },
    {
      "metadata": {
        "id": "FBMIkuFt_neu",
        "colab_type": "code",
        "outputId": "6667895d-4223-4109-88ad-0be0dbbe0a62",
        "colab": {
          "base_uri": "https://localhost:8080/",
          "height": 323
        }
      },
      "cell_type": "code",
      "source": [
        "# instantiate encoder model\n",
        "encoder = Model(inputs, [z_mean, z_log_var, z], name='encoder')\n",
        "encoder.summary()\n",
        "plot_model(encoder, to_file='vae_mlp_encoder.png', show_shapes=True)"
      ],
      "execution_count": 0,
      "outputs": [
        {
          "output_type": "stream",
          "text": [
            "__________________________________________________________________________________________________\n",
            "Layer (type)                    Output Shape         Param #     Connected to                     \n",
            "==================================================================================================\n",
            "encoder_input (InputLayer)      (None, 784)          0                                            \n",
            "__________________________________________________________________________________________________\n",
            "dense_3 (Dense)                 (None, 512)          401920      encoder_input[0][0]              \n",
            "__________________________________________________________________________________________________\n",
            "z_mean (Dense)                  (None, 2)            1026        dense_3[0][0]                    \n",
            "__________________________________________________________________________________________________\n",
            "z_log_var (Dense)               (None, 2)            1026        dense_3[0][0]                    \n",
            "__________________________________________________________________________________________________\n",
            "z (Lambda)                      (None, 2)            0           z_mean[0][0]                     \n",
            "                                                                 z_log_var[0][0]                  \n",
            "==================================================================================================\n",
            "Total params: 403,972\n",
            "Trainable params: 403,972\n",
            "Non-trainable params: 0\n",
            "__________________________________________________________________________________________________\n"
          ],
          "name": "stdout"
        }
      ]
    },
    {
      "metadata": {
        "id": "RKdyDTo_BSYZ",
        "colab_type": "code",
        "colab": {}
      },
      "cell_type": "code",
      "source": [
        "# build decoder model\n",
        "latent_inputs = Input(shape=(latent_dim,), name='z_sampling')\n",
        "x = Dense(intermediate_dim, activation='relu')(latent_inputs)\n",
        "outputs = Dense(original_dim, activation='sigmoid')(x)"
      ],
      "execution_count": 0,
      "outputs": []
    },
    {
      "metadata": {
        "id": "ogSDHh_iCBdE",
        "colab_type": "code",
        "outputId": "6d989106-14fb-4263-f3a5-933cb63adeb1",
        "colab": {
          "base_uri": "https://localhost:8080/",
          "height": 238
        }
      },
      "cell_type": "code",
      "source": [
        "# instantiate decoder model\n",
        "decoder = Model(latent_inputs, outputs, name='decoder')\n",
        "decoder.summary()\n",
        "plot_model(decoder, to_file='vae_mlp_decoder.png', show_shapes=True)"
      ],
      "execution_count": 0,
      "outputs": [
        {
          "output_type": "stream",
          "text": [
            "_________________________________________________________________\n",
            "Layer (type)                 Output Shape              Param #   \n",
            "=================================================================\n",
            "z_sampling (InputLayer)      (None, 2)                 0         \n",
            "_________________________________________________________________\n",
            "dense_4 (Dense)              (None, 512)               1536      \n",
            "_________________________________________________________________\n",
            "dense_5 (Dense)              (None, 784)               402192    \n",
            "=================================================================\n",
            "Total params: 403,728\n",
            "Trainable params: 403,728\n",
            "Non-trainable params: 0\n",
            "_________________________________________________________________\n"
          ],
          "name": "stdout"
        }
      ]
    },
    {
      "metadata": {
        "id": "4sf8RagYCJng",
        "colab_type": "code",
        "outputId": "7e38cca1-861f-4eb4-98f6-91b8fc411f1e",
        "colab": {
          "base_uri": "https://localhost:8080/",
          "height": 54
        }
      },
      "cell_type": "code",
      "source": [
        "# instantiate VAE model\n",
        "outputs = decoder(encoder(inputs)[2])\n",
        "vae = Model(inputs, outputs, name='vae_mlp')"
      ],
      "execution_count": 0,
      "outputs": [
        {
          "output_type": "execute_result",
          "data": {
            "text/plain": [
              "_StoreTrueAction(option_strings=['-m', '--mse'], dest='mse', nargs=0, const=True, default=False, type=None, choices=None, help='Use mse loss instead of binary cross entropy (default)', metavar=None)"
            ]
          },
          "metadata": {
            "tags": []
          },
          "execution_count": 32
        }
      ]
    },
    {
      "metadata": {
        "id": "jeWsWG29CQWr",
        "colab_type": "code",
        "outputId": "7722403c-1b3c-46cf-8e63-fe992263ae36",
        "colab": {
          "base_uri": "https://localhost:8080/",
          "height": 935
        }
      },
      "cell_type": "code",
      "source": [
        "models = (encoder, decoder)\n",
        "data = (x_test, y_test)\n",
        "\n",
        "# VAE loss = mse_loss or xent_loss + kl_loss\n",
        "#if args.mse:\n",
        "    #reconstruction_loss = mse(inputs, outputs)\n",
        "#else:\n",
        "reconstruction_loss = binary_crossentropy(inputs,\n",
        "                                              outputs)\n",
        "\n",
        "reconstruction_loss *= original_dim\n",
        "kl_loss = 1 + z_log_var - K.square(z_mean) - K.exp(z_log_var)\n",
        "kl_loss = K.sum(kl_loss, axis=-1)\n",
        "kl_loss *= -0.5\n",
        "vae_loss = K.mean(reconstruction_loss + kl_loss)\n",
        "vae.add_loss(vae_loss)\n",
        "vae.compile(optimizer='adam')\n",
        "vae.summary()\n",
        "plot_model(vae,\n",
        "           to_file='vae_mlp.png',\n",
        "           show_shapes=True)\n",
        "\n",
        "#if args.weights:\n",
        "    #vae.load_weights(args.weights)\n",
        "#else:\n",
        "    # train the autoencoder\n",
        "vae.fit(x_train,\n",
        "        epochs=epochs,\n",
        "        batch_size=batch_size,\n",
        "        validation_data=(x_test, None))\n",
        "vae.save_weights('vae_mlp_mnist.h5')\n",
        "\n",
        "plot_results(models,\n",
        "             data,\n",
        "             batch_size=batch_size,\n",
        "             model_name=\"vae_mlp\")"
      ],
      "execution_count": 0,
      "outputs": [
        {
          "output_type": "stream",
          "text": [
            "_________________________________________________________________\n",
            "Layer (type)                 Output Shape              Param #   \n",
            "=================================================================\n",
            "encoder_input (InputLayer)   (None, 784)               0         \n",
            "_________________________________________________________________\n",
            "encoder (Model)              [(None, 2), (None, 2), (N 403972    \n",
            "_________________________________________________________________\n",
            "decoder (Model)              (None, 784)               403728    \n",
            "=================================================================\n",
            "Total params: 807,700\n",
            "Trainable params: 807,700\n",
            "Non-trainable params: 0\n",
            "_________________________________________________________________\n",
            "Train on 60000 samples, validate on 10000 samples\n",
            "Epoch 1/50\n",
            "60000/60000 [==============================] - 20s 340us/step - loss: 392.7785 - val_loss: 343.2205\n",
            "Epoch 2/50\n",
            "60000/60000 [==============================] - 20s 328us/step - loss: 338.3307 - val_loss: 334.3186\n",
            "Epoch 3/50\n",
            "60000/60000 [==============================] - 20s 326us/step - loss: 330.4104 - val_loss: 328.0664\n",
            "Epoch 4/50\n",
            "60000/60000 [==============================] - 20s 334us/step - loss: 324.6870 - val_loss: 322.9037\n",
            "Epoch 5/50\n",
            "60000/60000 [==============================] - 20s 341us/step - loss: 320.3209 - val_loss: 318.8856\n",
            "Epoch 6/50\n",
            "60000/60000 [==============================] - 20s 328us/step - loss: 317.1104 - val_loss: 316.5052\n",
            "Epoch 7/50\n",
            "60000/60000 [==============================] - 20s 329us/step - loss: 314.7649 - val_loss: 315.1462\n",
            "Epoch 8/50\n",
            "60000/60000 [==============================] - 20s 334us/step - loss: 312.9698 - val_loss: 312.9719\n",
            "Epoch 9/50\n",
            "60000/60000 [==============================] - 20s 334us/step - loss: 311.4375 - val_loss: 311.5046\n",
            "Epoch 10/50\n",
            "60000/60000 [==============================] - 20s 329us/step - loss: 310.1624 - val_loss: 311.0619\n",
            "Epoch 11/50\n",
            "60000/60000 [==============================] - 20s 326us/step - loss: 309.0908 - val_loss: 310.1231\n",
            "Epoch 12/50\n",
            "60000/60000 [==============================] - 20s 328us/step - loss: 308.1451 - val_loss: 309.6575\n",
            "Epoch 13/50\n",
            "60000/60000 [==============================] - 20s 327us/step - loss: 307.3474 - val_loss: 308.3091\n",
            "Epoch 14/50\n",
            "60000/60000 [==============================] - 20s 329us/step - loss: 306.5364 - val_loss: 308.3187\n",
            "Epoch 15/50\n",
            "60000/60000 [==============================] - 20s 328us/step - loss: 305.7175 - val_loss: 307.2438\n",
            "Epoch 16/50\n",
            "60000/60000 [==============================] - 20s 328us/step - loss: 305.0390 - val_loss: 307.1740\n",
            "Epoch 17/50\n",
            "60000/60000 [==============================] - 20s 331us/step - loss: 304.5086 - val_loss: 306.2218\n",
            "Epoch 18/50\n",
            "60000/60000 [==============================] - 20s 333us/step - loss: 303.8997 - val_loss: 305.9779\n",
            "Epoch 19/50\n",
            "60000/60000 [==============================] - 20s 332us/step - loss: 303.3269 - val_loss: 305.5319\n",
            "Epoch 20/50\n",
            "28672/60000 [=============>................] - ETA: 10s - loss: 302.3326"
          ],
          "name": "stdout"
        }
      ]
    },
    {
      "metadata": {
        "id": "A5kTCtF1OTMU",
        "colab_type": "code",
        "outputId": "0f736378-87a3-4108-da93-21f2f40830f8",
        "colab": {
          "base_uri": "https://localhost:8080/",
          "height": 180
        }
      },
      "cell_type": "code",
      "source": [
        "import argparse\n",
        "parser = argparse.ArgumentParser()\n",
        "args = parser.parse_args()"
      ],
      "execution_count": 0,
      "outputs": [
        {
          "output_type": "stream",
          "text": [
            "usage: ipykernel_launcher.py [-h]\n",
            "ipykernel_launcher.py: error: unrecognized arguments: -f /root/.local/share/jupyter/runtime/kernel-67ecdacf-173c-4ba7-ae3c-efe730b17551.json\n"
          ],
          "name": "stderr"
        },
        {
          "output_type": "error",
          "ename": "SystemExit",
          "evalue": "ignored",
          "traceback": [
            "An exception has occurred, use %tb to see the full traceback.\n",
            "\u001b[0;31mSystemExit\u001b[0m\u001b[0;31m:\u001b[0m 2\n"
          ]
        },
        {
          "output_type": "stream",
          "text": [
            "/usr/local/lib/python3.6/dist-packages/IPython/core/interactiveshell.py:2890: UserWarning: To exit: use 'exit', 'quit', or Ctrl-D.\n",
            "  warn(\"To exit: use 'exit', 'quit', or Ctrl-D.\", stacklevel=1)\n"
          ],
          "name": "stderr"
        }
      ]
    },
    {
      "metadata": {
        "id": "iqihs2N7EHmG",
        "colab_type": "code",
        "outputId": "43b34a85-2de9-4c1e-8016-cf5d8e6648b0",
        "colab": {
          "base_uri": "https://localhost:8080/",
          "height": 520
        }
      },
      "cell_type": "code",
      "source": [
        "%tb"
      ],
      "execution_count": 0,
      "outputs": [
        {
          "output_type": "error",
          "ename": "SystemExit",
          "evalue": "ignored",
          "traceback": [
            "\u001b[0;31m---------------------------------------------------------------------------\u001b[0m",
            "\u001b[0;31mSystemExit\u001b[0m                                Traceback (most recent call last)",
            "\u001b[0;32m<ipython-input-33-3e1edd6a2952>\u001b[0m in \u001b[0;36m<module>\u001b[0;34m()\u001b[0m\n\u001b[1;32m      1\u001b[0m \u001b[0;32mimport\u001b[0m \u001b[0margparse\u001b[0m\u001b[0;34m\u001b[0m\u001b[0;34m\u001b[0m\u001b[0m\n\u001b[1;32m      2\u001b[0m \u001b[0mparser\u001b[0m \u001b[0;34m=\u001b[0m \u001b[0margparse\u001b[0m\u001b[0;34m.\u001b[0m\u001b[0mArgumentParser\u001b[0m\u001b[0;34m(\u001b[0m\u001b[0;34m)\u001b[0m\u001b[0;34m\u001b[0m\u001b[0;34m\u001b[0m\u001b[0m\n\u001b[0;32m----> 3\u001b[0;31m \u001b[0margs\u001b[0m \u001b[0;34m=\u001b[0m \u001b[0mparser\u001b[0m\u001b[0;34m.\u001b[0m\u001b[0mparse_args\u001b[0m\u001b[0;34m(\u001b[0m\u001b[0;34m)\u001b[0m\u001b[0;34m\u001b[0m\u001b[0;34m\u001b[0m\u001b[0m\n\u001b[0m",
            "\u001b[0;32m/usr/lib/python3.6/argparse.py\u001b[0m in \u001b[0;36mparse_args\u001b[0;34m(self, args, namespace)\u001b[0m\n\u001b[1;32m   1744\u001b[0m         \u001b[0;32mif\u001b[0m \u001b[0margv\u001b[0m\u001b[0;34m:\u001b[0m\u001b[0;34m\u001b[0m\u001b[0;34m\u001b[0m\u001b[0m\n\u001b[1;32m   1745\u001b[0m             \u001b[0mmsg\u001b[0m \u001b[0;34m=\u001b[0m \u001b[0m_\u001b[0m\u001b[0;34m(\u001b[0m\u001b[0;34m'unrecognized arguments: %s'\u001b[0m\u001b[0;34m)\u001b[0m\u001b[0;34m\u001b[0m\u001b[0;34m\u001b[0m\u001b[0m\n\u001b[0;32m-> 1746\u001b[0;31m             \u001b[0mself\u001b[0m\u001b[0;34m.\u001b[0m\u001b[0merror\u001b[0m\u001b[0;34m(\u001b[0m\u001b[0mmsg\u001b[0m \u001b[0;34m%\u001b[0m \u001b[0;34m' '\u001b[0m\u001b[0;34m.\u001b[0m\u001b[0mjoin\u001b[0m\u001b[0;34m(\u001b[0m\u001b[0margv\u001b[0m\u001b[0;34m)\u001b[0m\u001b[0;34m)\u001b[0m\u001b[0;34m\u001b[0m\u001b[0;34m\u001b[0m\u001b[0m\n\u001b[0m\u001b[1;32m   1747\u001b[0m         \u001b[0;32mreturn\u001b[0m \u001b[0margs\u001b[0m\u001b[0;34m\u001b[0m\u001b[0;34m\u001b[0m\u001b[0m\n\u001b[1;32m   1748\u001b[0m \u001b[0;34m\u001b[0m\u001b[0m\n",
            "\u001b[0;32m/usr/lib/python3.6/argparse.py\u001b[0m in \u001b[0;36merror\u001b[0;34m(self, message)\u001b[0m\n\u001b[1;32m   2400\u001b[0m         \u001b[0mself\u001b[0m\u001b[0;34m.\u001b[0m\u001b[0mprint_usage\u001b[0m\u001b[0;34m(\u001b[0m\u001b[0m_sys\u001b[0m\u001b[0;34m.\u001b[0m\u001b[0mstderr\u001b[0m\u001b[0;34m)\u001b[0m\u001b[0;34m\u001b[0m\u001b[0;34m\u001b[0m\u001b[0m\n\u001b[1;32m   2401\u001b[0m         \u001b[0margs\u001b[0m \u001b[0;34m=\u001b[0m \u001b[0;34m{\u001b[0m\u001b[0;34m'prog'\u001b[0m\u001b[0;34m:\u001b[0m \u001b[0mself\u001b[0m\u001b[0;34m.\u001b[0m\u001b[0mprog\u001b[0m\u001b[0;34m,\u001b[0m \u001b[0;34m'message'\u001b[0m\u001b[0;34m:\u001b[0m \u001b[0mmessage\u001b[0m\u001b[0;34m}\u001b[0m\u001b[0;34m\u001b[0m\u001b[0;34m\u001b[0m\u001b[0m\n\u001b[0;32m-> 2402\u001b[0;31m         \u001b[0mself\u001b[0m\u001b[0;34m.\u001b[0m\u001b[0mexit\u001b[0m\u001b[0;34m(\u001b[0m\u001b[0;36m2\u001b[0m\u001b[0;34m,\u001b[0m \u001b[0m_\u001b[0m\u001b[0;34m(\u001b[0m\u001b[0;34m'%(prog)s: error: %(message)s\\n'\u001b[0m\u001b[0;34m)\u001b[0m \u001b[0;34m%\u001b[0m \u001b[0margs\u001b[0m\u001b[0;34m)\u001b[0m\u001b[0;34m\u001b[0m\u001b[0;34m\u001b[0m\u001b[0m\n\u001b[0m",
            "\u001b[0;32m/usr/lib/python3.6/argparse.py\u001b[0m in \u001b[0;36mexit\u001b[0;34m(self, status, message)\u001b[0m\n\u001b[1;32m   2387\u001b[0m         \u001b[0;32mif\u001b[0m \u001b[0mmessage\u001b[0m\u001b[0;34m:\u001b[0m\u001b[0;34m\u001b[0m\u001b[0;34m\u001b[0m\u001b[0m\n\u001b[1;32m   2388\u001b[0m             \u001b[0mself\u001b[0m\u001b[0;34m.\u001b[0m\u001b[0m_print_message\u001b[0m\u001b[0;34m(\u001b[0m\u001b[0mmessage\u001b[0m\u001b[0;34m,\u001b[0m \u001b[0m_sys\u001b[0m\u001b[0;34m.\u001b[0m\u001b[0mstderr\u001b[0m\u001b[0;34m)\u001b[0m\u001b[0;34m\u001b[0m\u001b[0;34m\u001b[0m\u001b[0m\n\u001b[0;32m-> 2389\u001b[0;31m         \u001b[0m_sys\u001b[0m\u001b[0;34m.\u001b[0m\u001b[0mexit\u001b[0m\u001b[0;34m(\u001b[0m\u001b[0mstatus\u001b[0m\u001b[0;34m)\u001b[0m\u001b[0;34m\u001b[0m\u001b[0;34m\u001b[0m\u001b[0m\n\u001b[0m\u001b[1;32m   2390\u001b[0m \u001b[0;34m\u001b[0m\u001b[0m\n\u001b[1;32m   2391\u001b[0m     \u001b[0;32mdef\u001b[0m \u001b[0merror\u001b[0m\u001b[0;34m(\u001b[0m\u001b[0mself\u001b[0m\u001b[0;34m,\u001b[0m \u001b[0mmessage\u001b[0m\u001b[0;34m)\u001b[0m\u001b[0;34m:\u001b[0m\u001b[0;34m\u001b[0m\u001b[0;34m\u001b[0m\u001b[0m\n",
            "\u001b[0;31mSystemExit\u001b[0m: 2"
          ]
        }
      ]
    },
    {
      "metadata": {
        "id": "H5F-H4lLObgE",
        "colab_type": "code",
        "colab": {}
      },
      "cell_type": "code",
      "source": [
        ""
      ],
      "execution_count": 0,
      "outputs": []
    }
  ]
}